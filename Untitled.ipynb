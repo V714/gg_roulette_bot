{
 "cells": [
  {
   "cell_type": "markdown",
   "metadata": {},
   "source": [
    "Import cell:"
   ]
  },
  {
   "cell_type": "code",
   "execution_count": 1,
   "metadata": {},
   "outputs": [],
   "source": [
    "# GG Roulette Bot by V7\n",
    "from selenium import webdriver\n",
    "import time\n",
    "from selenium.webdriver.common.action_chains import ActionChains\n",
    "from selenium.webdriver.common.by import By\n",
    "from selenium.webdriver.support.ui import WebDriverWait\n",
    "from selenium.webdriver.support import expected_conditions as EC\n",
    "import argparse\n",
    "import getpass\n",
    "import sys"
   ]
  },
  {
   "cell_type": "markdown",
   "metadata": {},
   "source": [
    "All important functions:"
   ]
  },
  {
   "cell_type": "code",
   "execution_count": 4,
   "metadata": {},
   "outputs": [],
   "source": [
    "PATH='/Users/v7/Documents/chromedriver'\n",
    "\n",
    "def make_parse_args(args):\n",
    "    parser = argparse.ArgumentParser()\n",
    "    parser.add_argument('--loops', type=int, help='Number of loops in roulette. Default: 10', default=2)\n",
    "    parser.add_argument('--sex', default=\"both\", help=\"Type female or male. Default: both\")\n",
    "    parser.add_argument('--login', help=\"Login, number, email I guess or sth.\")\n",
    "    parser.add_argument('--passw', help='Password')\n",
    "    args = parser.parse_args()\n",
    "\n",
    "    if not args.login:\n",
    "        print(\"Press enter your login by --login LOGIN\")\n",
    "        quit()\n",
    "    elif not args.passw:\n",
    "        print(\"Press enter your password by --passw 'PASS'\")\n",
    "        quit()\n",
    "    return args\n",
    "\n",
    "def logging_gg(login,passw,driver):\n",
    "    driver.get(\"https://www.ggapp.com/\")\n",
    "    WebDriverWait(driver, 20).until(EC.element_to_be_clickable((By.CLASS_NAME, \"pum-close\"))).click()\n",
    "    WebDriverWait(driver, 20).until(EC.element_to_be_clickable((By.LINK_TEXT, \"Sign In\"))).click()\n",
    "\n",
    "    print(\"Waiting for login form.\")\n",
    "    time.sleep(2)\n",
    "\n",
    "    loginframe = driver.find_element_by_name(\"login-iframe\")\n",
    "    print(\"Login form detected.\")\n",
    "    driver.switch_to_frame(loginframe)\n",
    "\n",
    "    driver.find_element_by_id(\"login_input\").send_keys(login)\n",
    "    print(\"Entering login.\")\n",
    "    driver.find_element_by_id(\"password\").send_keys(passw)\n",
    "    print(\"Entering pass.\")\n",
    "    driver.find_element_by_name(\"doAction\").click()\n",
    "    print(\"Logging in.\")\n",
    "    driver.switch_to_default_content()\n",
    "\n",
    "\n",
    "def roulette_settings(sex,driver):\n",
    "    if not sex == 'both':\n",
    "        driver.get(\"https://www.ggapp.com/#roulette\")\n",
    "        print(\"Entering roulette.\")\n",
    "        WebDriverWait(driver, 20).until(EC.element_to_be_clickable((By.CLASS_NAME, 'btn-search-options'))).click()\n",
    "        print(\"Into options\")\n",
    "        if sex == 'female':\n",
    "            try:\n",
    "                WebDriverWait(driver, 4).until(EC.element_to_be_clickable((By.XPATH, \"/html/body/div[1]/div[4]/div[2]/div/div[2]/div/div[1]/div/ul/li[1]/label/img\"))).click()\n",
    "            except:\n",
    "                WebDriverWait(driver, 4).until(EC.element_to_be_clickable((By.XPATH, \"/html/body/div[1]/div[4]/div[2]/div/div[3]/div/div[1]/div/ul/li[1]/label/img\"))).click()\n",
    "            print(\"Females only selected.\")\n",
    "        elif sex == 'male':\n",
    "            try:\n",
    "                WebDriverWait(driver, 4).until(EC.element_to_be_clickable((By.XPATH, \"/html/body/div[1]/div[4]/div[2]/div/div[2]/div/div[1]/div/ul/li[2]/label/img\"))).click()\n",
    "            except:\n",
    "                WebDriverWait(driver, 4).until(EC.element_to_be_clickable((By.XPATH, \"/html/body/div[1]/div[4]/div[2]/div/div[3]/div/div[1]/div/ul/li[2]/label/img\"))).click()\n",
    "            print(\"Males only selected.\")\n",
    "        else:\n",
    "            print(\"Both selected.\")\n",
    "\n",
    "def roulette(roulette_loops,driver,sex):\n",
    "    loops = 0\n",
    "    cnt = 0\n",
    "    web.get(\"https://www.ggapp.com/#roulette\")\n",
    "    loops = loops + 1\n",
    "    WebDriverWait(driver, 4).until(EC.element_to_be_clickable((By.CLASS_NAME, \"wide\"))).click()\n",
    "    print(loops, ' loop.')\n",
    "\n",
    "    #roulette start\n",
    "    for _ in range(roulette_loops-1):\n",
    "        #Keep drawing\n",
    "        try: \n",
    "            WebDriverWait(driver, 25).until(EC.element_to_be_clickable((By.CLASS_NAME, \"white\"))).click()\n",
    "            loops = loops + 1\n",
    "            print(loops, ' loop.')\n",
    "        #if could not find anyone\n",
    "        except: \n",
    "            cnt = cnt + 1\n",
    "            print(\"Could not find anyone. Re: \", cnt)\n",
    "            WebDriverWait(driver, 25).until(EC.element_to_be_clickable((By.CLASS_NAME, \"wide\"))).click()\n",
    "            loops = loops + 1\n",
    "    #wait to finish drawing and quit\n",
    "    try:\n",
    "        verWait(driver, 25).until(EC.element_to_be_clickable((By.CLASS_NAME, \"white\"))).click()\n",
    "        web.quit()\n",
    "    except:\n",
    "        WebDriverWait(driver, 25).until(EC.element_to_be_clickable((By.CLASS_NAME, \"wide\"))).click()\n",
    "        web.quit()  \n",
    "\n",
    "    return loops, cnt              \n",
    "\n"
   ]
  },
  {
   "cell_type": "markdown",
   "metadata": {},
   "source": [
    "Enter your account number and password into line:\n",
    "logging_gg('number','password'.web)"
   ]
  },
  {
   "cell_type": "code",
   "execution_count": 3,
   "metadata": {
    "scrolled": true
   },
   "outputs": [
    {
     "name": "stdout",
     "output_type": "stream",
     "text": [
      "Waiting for login form.\n",
      "Login form detected.\n",
      "Entering login.\n",
      "Entering pass.\n"
     ]
    },
    {
     "name": "stderr",
     "output_type": "stream",
     "text": [
      "<ipython-input-2-fff2e71e26a2>:29: DeprecationWarning: use driver.switch_to.frame instead\n",
      "  driver.switch_to_frame(loginframe)\n"
     ]
    },
    {
     "name": "stdout",
     "output_type": "stream",
     "text": [
      "Logging in.\n",
      "GG loaded.\n",
      "Entering roulette.\n"
     ]
    },
    {
     "name": "stderr",
     "output_type": "stream",
     "text": [
      "<ipython-input-2-fff2e71e26a2>:37: DeprecationWarning: use driver.switch_to.default_content instead\n",
      "  driver.switch_to_default_content()\n"
     ]
    },
    {
     "name": "stdout",
     "output_type": "stream",
     "text": [
      "Into options\n",
      "Females only selected.\n"
     ]
    },
    {
     "ename": "NameError",
     "evalue": "name 'loops' is not defined",
     "output_type": "error",
     "traceback": [
      "\u001b[0;31m---------------------------------------------------------------------------\u001b[0m",
      "\u001b[0;31mNameError\u001b[0m                                 Traceback (most recent call last)",
      "\u001b[0;32m<ipython-input-3-3ac0ce55e893>\u001b[0m in \u001b[0;36m<module>\u001b[0;34m\u001b[0m\n\u001b[1;32m     11\u001b[0m     \u001b[0;31m#loops, cnt = roulette(args.loops,web,args.sex)\u001b[0m\u001b[0;34m\u001b[0m\u001b[0;34m\u001b[0m\u001b[0;34m\u001b[0m\u001b[0m\n\u001b[1;32m     12\u001b[0m \u001b[0;34m\u001b[0m\u001b[0m\n\u001b[0;32m---> 13\u001b[0;31m     \u001b[0mprint\u001b[0m\u001b[0;34m(\u001b[0m\u001b[0;34m'Roulette finished. '\u001b[0m\u001b[0;34m,\u001b[0m \u001b[0mloops\u001b[0m\u001b[0;34m,\u001b[0m \u001b[0;34m' loops and '\u001b[0m\u001b[0;34m,\u001b[0m \u001b[0mcnt\u001b[0m\u001b[0;34m,\u001b[0m \u001b[0;34m' drawing failed.'\u001b[0m\u001b[0;34m)\u001b[0m\u001b[0;34m\u001b[0m\u001b[0;34m\u001b[0m\u001b[0m\n\u001b[0m",
      "\u001b[0;31mNameError\u001b[0m: name 'loops' is not defined"
     ]
    }
   ],
   "source": [
    "\n",
    "\n",
    "if __name__ == '__main__':\n",
    "\n",
    "    web = webdriver.Chrome(PATH)\n",
    "\n",
    "    logging_gg('68406953','10minutemail',web)\n",
    "    print(\"GG loaded.\")\n",
    "    roulette_settings('female',web)\n",
    "\n",
    "    time.sleep(1)\n",
    "\n",
    "    #loops, cnt = roulette(args.loops,web,args.sex)"
   ]
  },
  {
   "cell_type": "markdown",
   "metadata": {},
   "source": [
    "Settings of roulette. Type the gender you would like to draw. It's \"female\" or \"male\" in the \"both\" field."
   ]
  },
  {
   "cell_type": "code",
   "execution_count": 7,
   "metadata": {},
   "outputs": [
    {
     "name": "stdout",
     "output_type": "stream",
     "text": [
      "Entering roulette.\n",
      "Into options\n",
      "Females only selected.\n"
     ]
    }
   ],
   "source": [
    "roulette_settings('both',web)"
   ]
  },
  {
   "cell_type": "markdown",
   "metadata": {},
   "source": [
    "For start roulette."
   ]
  },
  {
   "cell_type": "code",
   "execution_count": 10,
   "metadata": {},
   "outputs": [],
   "source": [
    "web.get(\"https://www.ggapp.com/#roulette\")\n",
    "WebDriverWait(web, 25).until(EC.element_to_be_clickable((By.CLASS_NAME, \"wide\"))).click()"
   ]
  },
  {
   "cell_type": "markdown",
   "metadata": {},
   "source": [
    "Code for keep drawing after getting someone already:"
   ]
  },
  {
   "cell_type": "code",
   "execution_count": 11,
   "metadata": {},
   "outputs": [],
   "source": [
    "keep_draw = web.find_elements_by_class_name(\"white\")\n",
    "keep_draw[0].click()"
   ]
  }
 ],
 "metadata": {
  "kernelspec": {
   "display_name": "Python 3",
   "language": "python",
   "name": "python3"
  },
  "language_info": {
   "codemirror_mode": {
    "name": "ipython",
    "version": 3
   },
   "file_extension": ".py",
   "mimetype": "text/x-python",
   "name": "python",
   "nbconvert_exporter": "python",
   "pygments_lexer": "ipython3",
   "version": "3.8.3"
  }
 },
 "nbformat": 4,
 "nbformat_minor": 4
}